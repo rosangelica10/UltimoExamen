{
 "cells": [
  {
   "cell_type": "code",
   "execution_count": 268,
   "id": "e0e0ba4d",
   "metadata": {},
   "outputs": [],
   "source": [
    "import pandas as pd\n",
    "import numpy as np\n",
    "import matplotlib.pyplot as plt\n",
    "import seaborn as sns"
   ]
  },
  {
   "cell_type": "code",
   "execution_count": 269,
   "id": "8eb35190",
   "metadata": {},
   "outputs": [],
   "source": [
    "from sklearn.model_selection import train_test_split\n",
    "from sklearn.linear_model import LinearRegression"
   ]
  },
  {
   "cell_type": "code",
   "execution_count": 339,
   "id": "5f8ee7b9",
   "metadata": {},
   "outputs": [],
   "source": [
    "examenes = pd.read_csv('exams.csv')"
   ]
  },
  {
   "cell_type": "code",
   "execution_count": 340,
   "id": "f5b15c04",
   "metadata": {},
   "outputs": [
    {
     "data": {
      "text/html": [
       "<div>\n",
       "<style scoped>\n",
       "    .dataframe tbody tr th:only-of-type {\n",
       "        vertical-align: middle;\n",
       "    }\n",
       "\n",
       "    .dataframe tbody tr th {\n",
       "        vertical-align: top;\n",
       "    }\n",
       "\n",
       "    .dataframe thead th {\n",
       "        text-align: right;\n",
       "    }\n",
       "</style>\n",
       "<table border=\"1\" class=\"dataframe\">\n",
       "  <thead>\n",
       "    <tr style=\"text-align: right;\">\n",
       "      <th></th>\n",
       "      <th>gender</th>\n",
       "      <th>race/ethnicity</th>\n",
       "      <th>parental level of education</th>\n",
       "      <th>lunch</th>\n",
       "      <th>test preparation course</th>\n",
       "      <th>math score</th>\n",
       "      <th>reading score</th>\n",
       "      <th>writing score</th>\n",
       "    </tr>\n",
       "  </thead>\n",
       "  <tbody>\n",
       "    <tr>\n",
       "      <th>0</th>\n",
       "      <td>male</td>\n",
       "      <td>group A</td>\n",
       "      <td>high school</td>\n",
       "      <td>standard</td>\n",
       "      <td>completed</td>\n",
       "      <td>67</td>\n",
       "      <td>67</td>\n",
       "      <td>63</td>\n",
       "    </tr>\n",
       "    <tr>\n",
       "      <th>1</th>\n",
       "      <td>female</td>\n",
       "      <td>group D</td>\n",
       "      <td>some high school</td>\n",
       "      <td>free/reduced</td>\n",
       "      <td>none</td>\n",
       "      <td>40</td>\n",
       "      <td>59</td>\n",
       "      <td>55</td>\n",
       "    </tr>\n",
       "    <tr>\n",
       "      <th>2</th>\n",
       "      <td>male</td>\n",
       "      <td>group E</td>\n",
       "      <td>some college</td>\n",
       "      <td>free/reduced</td>\n",
       "      <td>none</td>\n",
       "      <td>59</td>\n",
       "      <td>60</td>\n",
       "      <td>50</td>\n",
       "    </tr>\n",
       "    <tr>\n",
       "      <th>3</th>\n",
       "      <td>male</td>\n",
       "      <td>group B</td>\n",
       "      <td>high school</td>\n",
       "      <td>standard</td>\n",
       "      <td>none</td>\n",
       "      <td>77</td>\n",
       "      <td>78</td>\n",
       "      <td>68</td>\n",
       "    </tr>\n",
       "    <tr>\n",
       "      <th>4</th>\n",
       "      <td>male</td>\n",
       "      <td>group E</td>\n",
       "      <td>associate's degree</td>\n",
       "      <td>standard</td>\n",
       "      <td>completed</td>\n",
       "      <td>78</td>\n",
       "      <td>73</td>\n",
       "      <td>68</td>\n",
       "    </tr>\n",
       "    <tr>\n",
       "      <th>...</th>\n",
       "      <td>...</td>\n",
       "      <td>...</td>\n",
       "      <td>...</td>\n",
       "      <td>...</td>\n",
       "      <td>...</td>\n",
       "      <td>...</td>\n",
       "      <td>...</td>\n",
       "      <td>...</td>\n",
       "    </tr>\n",
       "    <tr>\n",
       "      <th>995</th>\n",
       "      <td>male</td>\n",
       "      <td>group C</td>\n",
       "      <td>high school</td>\n",
       "      <td>standard</td>\n",
       "      <td>none</td>\n",
       "      <td>73</td>\n",
       "      <td>70</td>\n",
       "      <td>65</td>\n",
       "    </tr>\n",
       "    <tr>\n",
       "      <th>996</th>\n",
       "      <td>male</td>\n",
       "      <td>group D</td>\n",
       "      <td>associate's degree</td>\n",
       "      <td>free/reduced</td>\n",
       "      <td>completed</td>\n",
       "      <td>85</td>\n",
       "      <td>91</td>\n",
       "      <td>92</td>\n",
       "    </tr>\n",
       "    <tr>\n",
       "      <th>997</th>\n",
       "      <td>female</td>\n",
       "      <td>group C</td>\n",
       "      <td>some high school</td>\n",
       "      <td>free/reduced</td>\n",
       "      <td>none</td>\n",
       "      <td>32</td>\n",
       "      <td>35</td>\n",
       "      <td>41</td>\n",
       "    </tr>\n",
       "    <tr>\n",
       "      <th>998</th>\n",
       "      <td>female</td>\n",
       "      <td>group C</td>\n",
       "      <td>some college</td>\n",
       "      <td>standard</td>\n",
       "      <td>none</td>\n",
       "      <td>73</td>\n",
       "      <td>74</td>\n",
       "      <td>82</td>\n",
       "    </tr>\n",
       "    <tr>\n",
       "      <th>999</th>\n",
       "      <td>male</td>\n",
       "      <td>group A</td>\n",
       "      <td>some college</td>\n",
       "      <td>standard</td>\n",
       "      <td>completed</td>\n",
       "      <td>65</td>\n",
       "      <td>60</td>\n",
       "      <td>62</td>\n",
       "    </tr>\n",
       "  </tbody>\n",
       "</table>\n",
       "<p>1000 rows × 8 columns</p>\n",
       "</div>"
      ],
      "text/plain": [
       "     gender race/ethnicity parental level of education         lunch  \\\n",
       "0      male        group A                 high school      standard   \n",
       "1    female        group D            some high school  free/reduced   \n",
       "2      male        group E                some college  free/reduced   \n",
       "3      male        group B                 high school      standard   \n",
       "4      male        group E          associate's degree      standard   \n",
       "..      ...            ...                         ...           ...   \n",
       "995    male        group C                 high school      standard   \n",
       "996    male        group D          associate's degree  free/reduced   \n",
       "997  female        group C            some high school  free/reduced   \n",
       "998  female        group C                some college      standard   \n",
       "999    male        group A                some college      standard   \n",
       "\n",
       "    test preparation course  math score  reading score  writing score  \n",
       "0                 completed          67             67             63  \n",
       "1                      none          40             59             55  \n",
       "2                      none          59             60             50  \n",
       "3                      none          77             78             68  \n",
       "4                 completed          78             73             68  \n",
       "..                      ...         ...            ...            ...  \n",
       "995                    none          73             70             65  \n",
       "996               completed          85             91             92  \n",
       "997                    none          32             35             41  \n",
       "998                    none          73             74             82  \n",
       "999               completed          65             60             62  \n",
       "\n",
       "[1000 rows x 8 columns]"
      ]
     },
     "execution_count": 340,
     "metadata": {},
     "output_type": "execute_result"
    }
   ],
   "source": [
    "examenes"
   ]
  },
  {
   "cell_type": "code",
   "execution_count": 341,
   "id": "59368744",
   "metadata": {},
   "outputs": [],
   "source": [
    "examenes_categoricas = examenes.loc[:,[\"gender\", \"race/ethnicity\", \"parental level of education\", \"lunch\", \"test preparation course\"]]"
   ]
  },
  {
   "cell_type": "code",
   "execution_count": 342,
   "id": "eb8ab922",
   "metadata": {},
   "outputs": [
    {
     "data": {
      "text/html": [
       "<div>\n",
       "<style scoped>\n",
       "    .dataframe tbody tr th:only-of-type {\n",
       "        vertical-align: middle;\n",
       "    }\n",
       "\n",
       "    .dataframe tbody tr th {\n",
       "        vertical-align: top;\n",
       "    }\n",
       "\n",
       "    .dataframe thead th {\n",
       "        text-align: right;\n",
       "    }\n",
       "</style>\n",
       "<table border=\"1\" class=\"dataframe\">\n",
       "  <thead>\n",
       "    <tr style=\"text-align: right;\">\n",
       "      <th></th>\n",
       "      <th>gender</th>\n",
       "      <th>race/ethnicity</th>\n",
       "      <th>parental level of education</th>\n",
       "      <th>lunch</th>\n",
       "      <th>test preparation course</th>\n",
       "    </tr>\n",
       "  </thead>\n",
       "  <tbody>\n",
       "    <tr>\n",
       "      <th>0</th>\n",
       "      <td>male</td>\n",
       "      <td>group A</td>\n",
       "      <td>high school</td>\n",
       "      <td>standard</td>\n",
       "      <td>completed</td>\n",
       "    </tr>\n",
       "    <tr>\n",
       "      <th>1</th>\n",
       "      <td>female</td>\n",
       "      <td>group D</td>\n",
       "      <td>some high school</td>\n",
       "      <td>free/reduced</td>\n",
       "      <td>none</td>\n",
       "    </tr>\n",
       "    <tr>\n",
       "      <th>2</th>\n",
       "      <td>male</td>\n",
       "      <td>group E</td>\n",
       "      <td>some college</td>\n",
       "      <td>free/reduced</td>\n",
       "      <td>none</td>\n",
       "    </tr>\n",
       "    <tr>\n",
       "      <th>3</th>\n",
       "      <td>male</td>\n",
       "      <td>group B</td>\n",
       "      <td>high school</td>\n",
       "      <td>standard</td>\n",
       "      <td>none</td>\n",
       "    </tr>\n",
       "    <tr>\n",
       "      <th>4</th>\n",
       "      <td>male</td>\n",
       "      <td>group E</td>\n",
       "      <td>associate's degree</td>\n",
       "      <td>standard</td>\n",
       "      <td>completed</td>\n",
       "    </tr>\n",
       "    <tr>\n",
       "      <th>...</th>\n",
       "      <td>...</td>\n",
       "      <td>...</td>\n",
       "      <td>...</td>\n",
       "      <td>...</td>\n",
       "      <td>...</td>\n",
       "    </tr>\n",
       "    <tr>\n",
       "      <th>995</th>\n",
       "      <td>male</td>\n",
       "      <td>group C</td>\n",
       "      <td>high school</td>\n",
       "      <td>standard</td>\n",
       "      <td>none</td>\n",
       "    </tr>\n",
       "    <tr>\n",
       "      <th>996</th>\n",
       "      <td>male</td>\n",
       "      <td>group D</td>\n",
       "      <td>associate's degree</td>\n",
       "      <td>free/reduced</td>\n",
       "      <td>completed</td>\n",
       "    </tr>\n",
       "    <tr>\n",
       "      <th>997</th>\n",
       "      <td>female</td>\n",
       "      <td>group C</td>\n",
       "      <td>some high school</td>\n",
       "      <td>free/reduced</td>\n",
       "      <td>none</td>\n",
       "    </tr>\n",
       "    <tr>\n",
       "      <th>998</th>\n",
       "      <td>female</td>\n",
       "      <td>group C</td>\n",
       "      <td>some college</td>\n",
       "      <td>standard</td>\n",
       "      <td>none</td>\n",
       "    </tr>\n",
       "    <tr>\n",
       "      <th>999</th>\n",
       "      <td>male</td>\n",
       "      <td>group A</td>\n",
       "      <td>some college</td>\n",
       "      <td>standard</td>\n",
       "      <td>completed</td>\n",
       "    </tr>\n",
       "  </tbody>\n",
       "</table>\n",
       "<p>1000 rows × 5 columns</p>\n",
       "</div>"
      ],
      "text/plain": [
       "     gender race/ethnicity parental level of education         lunch  \\\n",
       "0      male        group A                 high school      standard   \n",
       "1    female        group D            some high school  free/reduced   \n",
       "2      male        group E                some college  free/reduced   \n",
       "3      male        group B                 high school      standard   \n",
       "4      male        group E          associate's degree      standard   \n",
       "..      ...            ...                         ...           ...   \n",
       "995    male        group C                 high school      standard   \n",
       "996    male        group D          associate's degree  free/reduced   \n",
       "997  female        group C            some high school  free/reduced   \n",
       "998  female        group C                some college      standard   \n",
       "999    male        group A                some college      standard   \n",
       "\n",
       "    test preparation course  \n",
       "0                 completed  \n",
       "1                      none  \n",
       "2                      none  \n",
       "3                      none  \n",
       "4                 completed  \n",
       "..                      ...  \n",
       "995                    none  \n",
       "996               completed  \n",
       "997                    none  \n",
       "998                    none  \n",
       "999               completed  \n",
       "\n",
       "[1000 rows x 5 columns]"
      ]
     },
     "execution_count": 342,
     "metadata": {},
     "output_type": "execute_result"
    }
   ],
   "source": [
    "examenes_categoricas"
   ]
  },
  {
   "cell_type": "code",
   "execution_count": 343,
   "id": "9ce0f527",
   "metadata": {},
   "outputs": [],
   "source": [
    "frec = examenes_categoricas.groupby(['gender']).count()"
   ]
  },
  {
   "cell_type": "code",
   "execution_count": 344,
   "id": "55c4e960",
   "metadata": {},
   "outputs": [],
   "source": [
    "examenes['gender_num'] = np.where(examenes['gender'] == 'male',1,2)\n"
   ]
  },
  {
   "cell_type": "code",
   "execution_count": 345,
   "id": "e840638f",
   "metadata": {},
   "outputs": [],
   "source": [
    "frec = examenes_categoricas.groupby(['race/ethnicity']).count()"
   ]
  },
  {
   "cell_type": "code",
   "execution_count": 346,
   "id": "c1a0ba6e",
   "metadata": {},
   "outputs": [],
   "source": [
    "examenes['race_num'] = np.where(examenes['race/ethnicity'] == 'group C', 1, np.where(examenes['race/ethnicity'] == 'group D', 2, 3))"
   ]
  },
  {
   "cell_type": "code",
   "execution_count": 347,
   "id": "d822c38d",
   "metadata": {},
   "outputs": [],
   "source": [
    "frec = examenes_categoricas.groupby(['parental level of education']).count()"
   ]
  },
  {
   "cell_type": "code",
   "execution_count": 348,
   "id": "8828a3a3",
   "metadata": {},
   "outputs": [],
   "source": [
    "examenes['parental_num'] = np.where(examenes['parental level of education'] == 'some college', 1, np.where(examenes['parental level of education'] == \"associate's degree\",2,3))"
   ]
  },
  {
   "cell_type": "code",
   "execution_count": 349,
   "id": "48a421f1",
   "metadata": {},
   "outputs": [],
   "source": [
    "frec = examenes_categoricas.groupby(['lunch']).count()"
   ]
  },
  {
   "cell_type": "code",
   "execution_count": 350,
   "id": "39fc4015",
   "metadata": {},
   "outputs": [],
   "source": [
    "examenes['lunch_num'] = np.where(examenes['lunch'] == 'standard', 1, 2)"
   ]
  },
  {
   "cell_type": "code",
   "execution_count": 351,
   "id": "ccd141c8",
   "metadata": {},
   "outputs": [],
   "source": [
    "frec = examenes_categoricas.groupby(['test preparation course']).count()"
   ]
  },
  {
   "cell_type": "code",
   "execution_count": 352,
   "id": "7bf4faa7",
   "metadata": {},
   "outputs": [
    {
     "data": {
      "text/html": [
       "<div>\n",
       "<style scoped>\n",
       "    .dataframe tbody tr th:only-of-type {\n",
       "        vertical-align: middle;\n",
       "    }\n",
       "\n",
       "    .dataframe tbody tr th {\n",
       "        vertical-align: top;\n",
       "    }\n",
       "\n",
       "    .dataframe thead th {\n",
       "        text-align: right;\n",
       "    }\n",
       "</style>\n",
       "<table border=\"1\" class=\"dataframe\">\n",
       "  <thead>\n",
       "    <tr style=\"text-align: right;\">\n",
       "      <th></th>\n",
       "      <th>gender_num</th>\n",
       "      <th>race_num</th>\n",
       "      <th>parental_num</th>\n",
       "      <th>lunch_num</th>\n",
       "      <th>test_prep</th>\n",
       "      <th>reading score</th>\n",
       "      <th>writing score</th>\n",
       "      <th>Probabilidad_</th>\n",
       "    </tr>\n",
       "  </thead>\n",
       "  <tbody>\n",
       "    <tr>\n",
       "      <th>0</th>\n",
       "      <td>1</td>\n",
       "      <td>3</td>\n",
       "      <td>3</td>\n",
       "      <td>1</td>\n",
       "      <td>2</td>\n",
       "      <td>67</td>\n",
       "      <td>63</td>\n",
       "      <td>1</td>\n",
       "    </tr>\n",
       "    <tr>\n",
       "      <th>1</th>\n",
       "      <td>2</td>\n",
       "      <td>2</td>\n",
       "      <td>3</td>\n",
       "      <td>2</td>\n",
       "      <td>1</td>\n",
       "      <td>59</td>\n",
       "      <td>55</td>\n",
       "      <td>0</td>\n",
       "    </tr>\n",
       "    <tr>\n",
       "      <th>2</th>\n",
       "      <td>1</td>\n",
       "      <td>3</td>\n",
       "      <td>1</td>\n",
       "      <td>2</td>\n",
       "      <td>1</td>\n",
       "      <td>60</td>\n",
       "      <td>50</td>\n",
       "      <td>0</td>\n",
       "    </tr>\n",
       "    <tr>\n",
       "      <th>3</th>\n",
       "      <td>1</td>\n",
       "      <td>3</td>\n",
       "      <td>3</td>\n",
       "      <td>1</td>\n",
       "      <td>1</td>\n",
       "      <td>78</td>\n",
       "      <td>68</td>\n",
       "      <td>1</td>\n",
       "    </tr>\n",
       "    <tr>\n",
       "      <th>4</th>\n",
       "      <td>1</td>\n",
       "      <td>3</td>\n",
       "      <td>2</td>\n",
       "      <td>1</td>\n",
       "      <td>2</td>\n",
       "      <td>73</td>\n",
       "      <td>68</td>\n",
       "      <td>1</td>\n",
       "    </tr>\n",
       "    <tr>\n",
       "      <th>...</th>\n",
       "      <td>...</td>\n",
       "      <td>...</td>\n",
       "      <td>...</td>\n",
       "      <td>...</td>\n",
       "      <td>...</td>\n",
       "      <td>...</td>\n",
       "      <td>...</td>\n",
       "      <td>...</td>\n",
       "    </tr>\n",
       "    <tr>\n",
       "      <th>995</th>\n",
       "      <td>1</td>\n",
       "      <td>1</td>\n",
       "      <td>3</td>\n",
       "      <td>1</td>\n",
       "      <td>1</td>\n",
       "      <td>70</td>\n",
       "      <td>65</td>\n",
       "      <td>1</td>\n",
       "    </tr>\n",
       "    <tr>\n",
       "      <th>996</th>\n",
       "      <td>1</td>\n",
       "      <td>2</td>\n",
       "      <td>2</td>\n",
       "      <td>2</td>\n",
       "      <td>2</td>\n",
       "      <td>91</td>\n",
       "      <td>92</td>\n",
       "      <td>1</td>\n",
       "    </tr>\n",
       "    <tr>\n",
       "      <th>997</th>\n",
       "      <td>2</td>\n",
       "      <td>1</td>\n",
       "      <td>3</td>\n",
       "      <td>2</td>\n",
       "      <td>1</td>\n",
       "      <td>35</td>\n",
       "      <td>41</td>\n",
       "      <td>0</td>\n",
       "    </tr>\n",
       "    <tr>\n",
       "      <th>998</th>\n",
       "      <td>2</td>\n",
       "      <td>1</td>\n",
       "      <td>1</td>\n",
       "      <td>1</td>\n",
       "      <td>1</td>\n",
       "      <td>74</td>\n",
       "      <td>82</td>\n",
       "      <td>1</td>\n",
       "    </tr>\n",
       "    <tr>\n",
       "      <th>999</th>\n",
       "      <td>1</td>\n",
       "      <td>3</td>\n",
       "      <td>1</td>\n",
       "      <td>1</td>\n",
       "      <td>2</td>\n",
       "      <td>60</td>\n",
       "      <td>62</td>\n",
       "      <td>1</td>\n",
       "    </tr>\n",
       "  </tbody>\n",
       "</table>\n",
       "<p>1000 rows × 8 columns</p>\n",
       "</div>"
      ],
      "text/plain": [
       "     gender_num  race_num  parental_num  lunch_num  test_prep  reading score  \\\n",
       "0             1         3             3          1          2             67   \n",
       "1             2         2             3          2          1             59   \n",
       "2             1         3             1          2          1             60   \n",
       "3             1         3             3          1          1             78   \n",
       "4             1         3             2          1          2             73   \n",
       "..          ...       ...           ...        ...        ...            ...   \n",
       "995           1         1             3          1          1             70   \n",
       "996           1         2             2          2          2             91   \n",
       "997           2         1             3          2          1             35   \n",
       "998           2         1             1          1          1             74   \n",
       "999           1         3             1          1          2             60   \n",
       "\n",
       "     writing score  Probabilidad_  \n",
       "0               63              1  \n",
       "1               55              0  \n",
       "2               50              0  \n",
       "3               68              1  \n",
       "4               68              1  \n",
       "..             ...            ...  \n",
       "995             65              1  \n",
       "996             92              1  \n",
       "997             41              0  \n",
       "998             82              1  \n",
       "999             62              1  \n",
       "\n",
       "[1000 rows x 8 columns]"
      ]
     },
     "execution_count": 352,
     "metadata": {},
     "output_type": "execute_result"
    }
   ],
   "source": [
    "examenes['test_prep'] = np.where(examenes['test preparation course'] == 'none', 1, 2)\n",
    "examenes['Probabilidad_'] = np.where(examenes['math score'] > 60,1,0)\n",
    "examenes = examenes.loc[:,['gender_num', 'race_num', 'parental_num', 'lunch_num','test_prep', 'reading score', 'writing score','Probabilidad_']]\n",
    "examenes"
   ]
  },
  {
   "cell_type": "code",
   "execution_count": 353,
   "id": "fa3d3d3b",
   "metadata": {},
   "outputs": [],
   "source": [
    "from sklearn.linear_model import LogisticRegression\n",
    "from sklearn import metrics\n",
    "from sklearn.metrics import accuracy_score, f1_score, precision_score, recall_score, classification_report, confusion_matrix, roc_curve"
   ]
  },
  {
   "cell_type": "code",
   "execution_count": 354,
   "id": "d4e8eba2",
   "metadata": {},
   "outputs": [],
   "source": [
    "features_col = examenes.columns.values[0:7]"
   ]
  },
  {
   "cell_type": "code",
   "execution_count": 356,
   "id": "462bf8b6",
   "metadata": {},
   "outputs": [],
   "source": [
    "X = examenes[features_col].values\n",
    "Y = examenes[\"Probabilidad_\"].values"
   ]
  },
  {
   "cell_type": "code",
   "execution_count": 357,
   "id": "4c06ee3a",
   "metadata": {},
   "outputs": [],
   "source": [
    "X_train, X_test, Y_train, Y_test = train_test_split(X,Y,test_size=0.30, random_state = 0)"
   ]
  },
  {
   "cell_type": "code",
   "execution_count": 358,
   "id": "1127188a",
   "metadata": {},
   "outputs": [
    {
     "data": {
      "text/plain": [
       "LogisticRegression(max_iter=1000)"
      ]
     },
     "execution_count": 358,
     "metadata": {},
     "output_type": "execute_result"
    }
   ],
   "source": [
    "log_model = LogisticRegression(solver='lbfgs', max_iter=1000)\n",
    "log_model.fit(X_train,Y_train)"
   ]
  },
  {
   "cell_type": "code",
   "execution_count": 359,
   "id": "febf099e",
   "metadata": {},
   "outputs": [],
   "source": [
    "y_pred = log_model.predict(X_test)"
   ]
  },
  {
   "cell_type": "code",
   "execution_count": 360,
   "id": "574f6422",
   "metadata": {},
   "outputs": [
    {
     "data": {
      "text/plain": [
       "array([0, 1, 0, 1, 0, 0, 1, 1, 1, 1, 0, 1, 1, 1, 1, 0, 1, 0, 1, 1, 1, 1,\n",
       "       1, 0, 1, 1, 0, 1, 0, 0, 1, 0, 0, 1, 0, 1, 0, 0, 1, 1, 1, 1, 1, 1,\n",
       "       1, 1, 1, 1, 0, 1, 1, 1, 0, 1, 1, 1, 1, 1, 1, 1, 1, 0, 1, 1, 0, 0,\n",
       "       1, 1, 1, 0, 1, 0, 0, 1, 1, 0, 1, 1, 1, 0, 0, 1, 0, 1, 1, 1, 0, 1,\n",
       "       1, 1, 1, 1, 1, 1, 1, 1, 0, 1, 1, 0, 0, 1, 0, 1, 1, 0, 1, 1, 0, 1,\n",
       "       0, 1, 1, 1, 0, 1, 1, 1, 1, 1, 1, 1, 0, 1, 1, 1, 0, 0, 1, 0, 1, 1,\n",
       "       1, 0, 0, 1, 0, 1, 1, 0, 1, 0, 1, 1, 0, 0, 1, 1, 0, 1, 1, 1, 0, 1,\n",
       "       1, 1, 1, 0, 1, 1, 1, 1, 0, 1, 1, 1, 0, 1, 0, 1, 0, 0, 0, 1, 0, 1,\n",
       "       1, 1, 1, 1, 1, 1, 0, 1, 1, 1, 0, 0, 1, 1, 1, 0, 1, 1, 0, 1, 0, 0,\n",
       "       0, 1, 1, 0, 0, 0, 1, 0, 1, 0, 1, 1, 0, 1, 0, 1, 1, 1, 1, 0, 1, 1,\n",
       "       0, 1, 1, 1, 1, 0, 1, 1, 0, 1, 1, 1, 1, 1, 1, 0, 0, 1, 1, 0, 1, 1,\n",
       "       0, 1, 1, 0, 0, 0, 1, 1, 1, 1, 1, 1, 1, 1, 1, 1, 0, 0, 1, 0, 1, 1,\n",
       "       1, 0, 1, 1, 0, 1, 1, 1, 1, 1, 0, 0, 1, 0, 0, 0, 1, 1, 1, 1, 0, 1,\n",
       "       0, 0, 1, 0, 1, 0, 0, 0, 0, 0, 1, 1, 1, 1])"
      ]
     },
     "execution_count": 360,
     "metadata": {},
     "output_type": "execute_result"
    }
   ],
   "source": [
    "y_pred"
   ]
  },
  {
   "cell_type": "code",
   "execution_count": 361,
   "id": "38947a29",
   "metadata": {},
   "outputs": [
    {
     "data": {
      "text/plain": [
       "array([0, 1, 1, 1, 0, 1, 1, 1, 1, 1, 0, 1, 1, 1, 1, 0, 1, 0, 1, 1, 1, 1,\n",
       "       1, 0, 1, 1, 0, 1, 1, 0, 1, 0, 0, 1, 0, 1, 1, 0, 1, 1, 1, 1, 1, 1,\n",
       "       1, 1, 0, 1, 0, 1, 1, 1, 1, 1, 1, 0, 1, 1, 1, 1, 1, 1, 1, 1, 0, 0,\n",
       "       1, 1, 1, 0, 1, 0, 0, 1, 1, 0, 1, 1, 1, 0, 0, 1, 0, 1, 1, 0, 0, 1,\n",
       "       1, 1, 1, 1, 1, 1, 1, 1, 0, 1, 1, 0, 0, 1, 0, 1, 1, 1, 1, 1, 0, 1,\n",
       "       0, 1, 1, 1, 0, 1, 1, 1, 1, 1, 1, 1, 0, 0, 1, 1, 0, 0, 1, 1, 1, 1,\n",
       "       1, 0, 1, 1, 0, 1, 1, 0, 1, 0, 1, 1, 0, 0, 1, 1, 0, 1, 0, 1, 1, 1,\n",
       "       1, 1, 1, 0, 1, 1, 1, 1, 0, 1, 1, 1, 0, 1, 0, 1, 1, 0, 0, 1, 0, 1,\n",
       "       1, 1, 1, 1, 1, 1, 0, 1, 1, 0, 0, 1, 1, 1, 1, 0, 1, 1, 1, 1, 0, 0,\n",
       "       0, 1, 1, 0, 0, 0, 1, 0, 1, 0, 1, 1, 0, 0, 1, 1, 1, 1, 1, 0, 0, 0,\n",
       "       0, 1, 1, 1, 1, 0, 1, 1, 0, 1, 1, 1, 1, 1, 1, 0, 0, 1, 1, 0, 1, 1,\n",
       "       0, 1, 1, 0, 0, 0, 1, 1, 0, 1, 0, 1, 1, 1, 1, 1, 0, 0, 0, 0, 1, 1,\n",
       "       0, 0, 1, 1, 1, 1, 1, 1, 1, 1, 1, 1, 0, 0, 0, 0, 1, 1, 1, 1, 0, 1,\n",
       "       0, 0, 1, 0, 1, 1, 0, 0, 0, 0, 1, 1, 0, 1])"
      ]
     },
     "execution_count": 361,
     "metadata": {},
     "output_type": "execute_result"
    }
   ],
   "source": [
    "Y_test"
   ]
  },
  {
   "cell_type": "code",
   "execution_count": 362,
   "id": "7fcc9171",
   "metadata": {},
   "outputs": [
    {
     "data": {
      "text/plain": [
       "array([1.28475760e-01, 9.23926256e-01, 4.51628225e-01, 9.43765851e-01,\n",
       "       5.94735572e-04, 8.76355228e-02, 9.40114494e-01, 9.96489635e-01,\n",
       "       9.55412998e-01, 9.99968525e-01, 6.18531280e-06, 9.88047724e-01,\n",
       "       9.91337087e-01, 9.92296115e-01, 8.81136311e-01, 5.56222775e-02,\n",
       "       9.87922420e-01, 5.00687838e-02, 9.99727491e-01, 9.71686600e-01,\n",
       "       9.93246649e-01, 9.74559576e-01, 8.91264056e-01, 2.70852717e-02,\n",
       "       9.90234180e-01, 9.20234715e-01, 3.68926182e-01, 9.88637553e-01,\n",
       "       2.98061114e-01, 1.39684197e-02, 9.80119329e-01, 1.92702086e-01,\n",
       "       4.47639953e-01, 9.74022448e-01, 9.10942751e-02, 9.99784900e-01,\n",
       "       3.37612856e-01, 4.64888178e-02, 9.86719642e-01, 9.72642565e-01,\n",
       "       9.81282553e-01, 9.99813813e-01, 9.99605144e-01, 9.72762883e-01,\n",
       "       9.95603095e-01, 5.44091381e-01, 5.04578063e-01, 9.77984345e-01,\n",
       "       1.04629599e-01, 9.99427514e-01, 8.24683571e-01, 9.97517153e-01,\n",
       "       3.97392348e-01, 6.31276963e-01, 9.98993445e-01, 7.46867204e-01,\n",
       "       9.16676274e-01, 8.40258140e-01, 9.93436532e-01, 9.99709466e-01,\n",
       "       6.64927061e-01, 3.32260454e-01, 9.98419676e-01, 9.93656178e-01,\n",
       "       3.28957690e-01, 2.35514264e-01, 9.99840123e-01, 9.17844069e-01,\n",
       "       9.39363558e-01, 1.29014558e-01, 8.16628374e-01, 2.40879902e-02,\n",
       "       4.95907131e-01, 9.48429805e-01, 9.92940760e-01, 5.86970999e-02,\n",
       "       9.97822717e-01, 9.99568221e-01, 9.60253343e-01, 8.84686025e-02,\n",
       "       9.59224180e-03, 9.99909717e-01, 3.44841576e-03, 9.35814330e-01,\n",
       "       9.61444904e-01, 6.49319597e-01, 4.16081834e-01, 9.99559598e-01,\n",
       "       9.46589968e-01, 9.77749774e-01, 9.91828584e-01, 7.35461430e-01,\n",
       "       9.28691420e-01, 9.26550679e-01, 9.99800645e-01, 9.99998138e-01,\n",
       "       1.64477431e-04, 9.97478463e-01, 9.78655975e-01, 7.63313498e-03,\n",
       "       1.62400655e-01, 9.12001111e-01, 1.41699755e-01, 9.89577670e-01,\n",
       "       9.99789937e-01, 4.89619305e-01, 9.93294340e-01, 7.86510179e-01,\n",
       "       1.53487574e-01, 8.85326367e-01, 1.15009960e-01, 9.99722213e-01,\n",
       "       8.89421648e-01, 9.82562480e-01, 1.72356604e-01, 9.93746890e-01,\n",
       "       9.94680332e-01, 8.49112278e-01, 9.48404662e-01, 9.92921303e-01,\n",
       "       9.99843007e-01, 9.87364370e-01, 4.77122383e-02, 5.95130891e-01,\n",
       "       9.63912046e-01, 7.83324341e-01, 2.36082005e-01, 5.73193588e-03,\n",
       "       5.39829758e-01, 3.40731744e-01, 9.37077216e-01, 7.78253346e-01,\n",
       "       9.86071538e-01, 1.35172126e-01, 3.32392415e-01, 9.89224654e-01,\n",
       "       1.59979008e-02, 9.75480935e-01, 8.71203750e-01, 1.02275569e-01,\n",
       "       9.97594384e-01, 5.69553823e-03, 9.99816098e-01, 9.56753579e-01,\n",
       "       6.47008480e-03, 1.61518444e-03, 9.26886522e-01, 9.95624690e-01,\n",
       "       6.54159179e-02, 9.95910689e-01, 8.85795582e-01, 9.99523015e-01,\n",
       "       2.11550428e-01, 9.21794696e-01, 9.95059980e-01, 5.97197537e-01,\n",
       "       9.94726903e-01, 2.09618049e-01, 9.99985026e-01, 9.66511927e-01,\n",
       "       9.96759171e-01, 9.98185804e-01, 1.92109485e-01, 6.35642986e-01,\n",
       "       6.44472491e-01, 9.95451688e-01, 2.31742528e-02, 9.64553227e-01,\n",
       "       6.60940510e-03, 9.18903097e-01, 4.51155611e-01, 6.90731309e-04,\n",
       "       2.72843904e-02, 9.99775195e-01, 7.79730268e-03, 9.98523247e-01,\n",
       "       9.94029909e-01, 9.99934347e-01, 8.44939554e-01, 9.61505519e-01,\n",
       "       9.95353029e-01, 7.94748471e-01, 8.16503223e-02, 9.98480022e-01,\n",
       "       8.80207343e-01, 7.19189453e-01, 9.95682664e-03, 2.54194639e-01,\n",
       "       9.99201959e-01, 9.74500702e-01, 9.90439394e-01, 6.38903161e-05,\n",
       "       9.96389871e-01, 9.64883608e-01, 3.55998449e-01, 8.78385312e-01,\n",
       "       1.49333567e-02, 5.98716887e-02, 3.44324717e-03, 9.22288007e-01,\n",
       "       9.78574472e-01, 1.43842484e-01, 7.30865142e-02, 1.01363003e-01,\n",
       "       9.98465942e-01, 2.65188398e-02, 9.99979962e-01, 2.96589213e-01,\n",
       "       9.97104551e-01, 9.87999976e-01, 1.11286379e-03, 7.93074212e-01,\n",
       "       4.02473441e-01, 9.99618938e-01, 9.97951267e-01, 9.80907438e-01,\n",
       "       9.99000391e-01, 2.86177494e-02, 7.13419268e-01, 8.18860458e-01,\n",
       "       2.39035160e-01, 6.62332253e-01, 9.99962141e-01, 9.94733452e-01,\n",
       "       9.99951483e-01, 7.88651186e-03, 9.99781757e-01, 9.96715414e-01,\n",
       "       4.26853765e-04, 9.84926568e-01, 9.99499747e-01, 9.29507840e-01,\n",
       "       9.83307527e-01, 9.99649461e-01, 8.16419938e-01, 1.12872457e-01,\n",
       "       7.23083502e-02, 9.94550189e-01, 9.95088468e-01, 8.40747280e-03,\n",
       "       9.97294644e-01, 9.99579826e-01, 1.45033521e-01, 9.78663966e-01,\n",
       "       9.98845307e-01, 3.70832674e-04, 1.13698903e-01, 1.70222016e-01,\n",
       "       8.12952097e-01, 8.03213203e-01, 6.15509090e-01, 7.53334046e-01,\n",
       "       7.48769891e-01, 5.82027997e-01, 8.16685665e-01, 9.88187085e-01,\n",
       "       9.97640794e-01, 5.72429104e-01, 1.08898100e-01, 3.23090420e-01,\n",
       "       6.04946207e-01, 2.58033933e-01, 9.93195956e-01, 5.95733118e-01,\n",
       "       9.55274830e-01, 1.09976972e-01, 9.96896480e-01, 9.99767351e-01,\n",
       "       3.07377379e-01, 7.27715339e-01, 9.94770915e-01, 8.18859977e-01,\n",
       "       9.75095678e-01, 9.99477035e-01, 6.18125166e-02, 3.42511272e-01,\n",
       "       9.79360848e-01, 6.98603148e-02, 6.24380084e-03, 1.56058102e-01,\n",
       "       9.89899069e-01, 9.95655344e-01, 9.76680470e-01, 9.99914504e-01,\n",
       "       2.32508027e-01, 9.99540368e-01, 3.75211735e-01, 8.92822322e-03,\n",
       "       7.21113772e-01, 2.79957541e-03, 9.92899904e-01, 9.31512572e-02,\n",
       "       1.39238260e-04, 2.75502880e-01, 1.13739371e-03, 3.18832650e-01,\n",
       "       9.91174100e-01, 9.48404662e-01, 7.91476749e-01, 9.99706521e-01])"
      ]
     },
     "execution_count": 362,
     "metadata": {},
     "output_type": "execute_result"
    }
   ],
   "source": [
    "log_model.predict_proba(X_test)[:,1]"
   ]
  },
  {
   "cell_type": "code",
   "execution_count": 363,
   "id": "139f254c",
   "metadata": {},
   "outputs": [
    {
     "name": "stdout",
     "output_type": "stream",
     "text": [
      "0.89\n",
      "0.9238578680203046\n",
      "0.91\n",
      "0.9168765743073047\n"
     ]
    }
   ],
   "source": [
    "print(metrics.accuracy_score(y_test, y_pred))\n",
    "print(precision_score(y_test, y_pred))\n",
    "print(recall_score(y_test, y_pred))\n",
    "print(f1_score(y_test,y_pred))"
   ]
  },
  {
   "cell_type": "code",
   "execution_count": 364,
   "id": "ea8028c2",
   "metadata": {},
   "outputs": [],
   "source": [
    "###Neuronal Network"
   ]
  },
  {
   "cell_type": "code",
   "execution_count": 365,
   "id": "1eb7aa9d",
   "metadata": {},
   "outputs": [],
   "source": [
    "from sklearn.neural_network import MLPClassifier\n",
    "\n",
    "from sklearn import metrics\n",
    "from sklearn.metrics import accuracy_score, f1_score, precision_score, recall_score, classification_report, confusion_matrix, roc_curve"
   ]
  },
  {
   "cell_type": "code",
   "execution_count": 366,
   "id": "1f80909d",
   "metadata": {},
   "outputs": [],
   "source": [
    "x_train = X_train\n",
    "x_test = X_test\n",
    "y_train = Y_train\n",
    "y_test = Y_test"
   ]
  },
  {
   "cell_type": "code",
   "execution_count": 367,
   "id": "8535f36f",
   "metadata": {},
   "outputs": [],
   "source": [
    "NN = MLPClassifier(random_state=1, max_iter=3000)\n",
    "\n",
    "NN.fit(x_train, y_train)\n",
    "\n",
    "y_pred = NN.predict(x_test)\n",
    "\n",
    "\n",
    "accuracy = accuracy_score(y_test,y_pred) * 100\n",
    "confusion_mat = confusion_matrix(y_test,y_pred)"
   ]
  },
  {
   "cell_type": "code",
   "execution_count": 368,
   "id": "c1f47c94",
   "metadata": {},
   "outputs": [
    {
     "name": "stdout",
     "output_type": "stream",
     "text": [
      "0.8866666666666667\n",
      "0.9322916666666666\n",
      "0.895\n",
      "0.913265306122449\n"
     ]
    }
   ],
   "source": [
    "print(metrics.accuracy_score(y_test, y_pred))\n",
    "print(precision_score(y_test, y_pred))\n",
    "print(recall_score(y_test, y_pred))\n",
    "print(f1_score(y_test,y_pred))"
   ]
  },
  {
   "cell_type": "code",
   "execution_count": 369,
   "id": "07af5fdf",
   "metadata": {},
   "outputs": [],
   "source": [
    "##Arbol de desiciones"
   ]
  },
  {
   "cell_type": "code",
   "execution_count": 370,
   "id": "0ee73d79",
   "metadata": {},
   "outputs": [],
   "source": [
    "from sklearn import tree"
   ]
  },
  {
   "cell_type": "code",
   "execution_count": 371,
   "id": "f3e8c15d",
   "metadata": {},
   "outputs": [],
   "source": [
    "tree_one = tree.DecisionTreeClassifier(random_state=1)"
   ]
  },
  {
   "cell_type": "code",
   "execution_count": 372,
   "id": "7fca30f6",
   "metadata": {},
   "outputs": [],
   "source": [
    "tree_one = tree_one.fit(x_train, y_train)"
   ]
  },
  {
   "cell_type": "code",
   "execution_count": 373,
   "id": "fbf47ad0",
   "metadata": {},
   "outputs": [
    {
     "data": {
      "text/plain": [
       "12"
      ]
     },
     "execution_count": 373,
     "metadata": {},
     "output_type": "execute_result"
    }
   ],
   "source": [
    "tree_one.tree_.max_depth"
   ]
  },
  {
   "cell_type": "code",
   "execution_count": 374,
   "id": "2276bf2b",
   "metadata": {},
   "outputs": [],
   "source": [
    "y_pred = tree_one.predict(x_test)"
   ]
  },
  {
   "cell_type": "code",
   "execution_count": 375,
   "id": "05de67a5",
   "metadata": {},
   "outputs": [
    {
     "name": "stdout",
     "output_type": "stream",
     "text": [
      "0.87\n",
      "0.900497512437811\n",
      "0.905\n",
      "0.9027431421446384\n"
     ]
    }
   ],
   "source": [
    "print(metrics.accuracy_score(y_test, y_pred))\n",
    "print(precision_score(y_test,y_pred))\n",
    "print(recall_score(y_test, y_pred))\n",
    "print(f1_score(y_test, y_pred))"
   ]
  },
  {
   "cell_type": "code",
   "execution_count": null,
   "id": "9df514ad",
   "metadata": {},
   "outputs": [],
   "source": []
  },
  {
   "cell_type": "code",
   "execution_count": null,
   "id": "4909ae1f",
   "metadata": {},
   "outputs": [],
   "source": []
  }
 ],
 "metadata": {
  "kernelspec": {
   "display_name": "Python 3 (ipykernel)",
   "language": "python",
   "name": "python3"
  },
  "language_info": {
   "codemirror_mode": {
    "name": "ipython",
    "version": 3
   },
   "file_extension": ".py",
   "mimetype": "text/x-python",
   "name": "python",
   "nbconvert_exporter": "python",
   "pygments_lexer": "ipython3",
   "version": "3.9.13"
  }
 },
 "nbformat": 4,
 "nbformat_minor": 5
}
